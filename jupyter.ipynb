{
 "cells": [
  {
   "cell_type": "code",
   "execution_count": 1,
   "id": "42182864",
   "metadata": {
    "ExecuteTime": {
     "end_time": "2024-03-05T02:40:25.219467Z",
     "start_time": "2024-03-05T02:40:24.967165Z"
    }
   },
   "outputs": [],
   "source": [
    "import os\n",
    "import glob\n",
    "from collections import Counter\n",
    "import pysam\n",
    "from pyBioInfo.Range import GRange\n",
    "from pyBioInfo.Utils import ShiftLoader"
   ]
  },
  {
   "cell_type": "markdown",
   "id": "98a0769f",
   "metadata": {},
   "source": [
    "# C57BL X DBA"
   ]
  },
  {
   "cell_type": "code",
   "execution_count": 2,
   "id": "a502f048",
   "metadata": {
    "ExecuteTime": {
     "end_time": "2024-03-05T02:40:25.892585Z",
     "start_time": "2024-03-05T02:40:25.871047Z"
    }
   },
   "outputs": [],
   "source": [
    "def load_variants(vcf_path, sample_name, variant_type):\n",
    "    variants = []\n",
    "    with pysam.VariantFile(vcf_path) as f:\n",
    "        for record in f:\n",
    "            chrom = \"chr%s\" % record.chrom\n",
    "            gt = record.samples[sample_name][\"GT\"]\n",
    "            allele1, allele2 = record.alleles[gt[0]], record.alleles[gt[1]]\n",
    "            name = \"%s/%s\" % (allele1, allele2)\n",
    "            obj = GRange(chrom=chrom, start=record.start, end=record.stop, name=name, strand=\"+\")\n",
    "            obj.ref = record.ref\n",
    "            obj.allele1 = allele1\n",
    "            obj.allele2 = allele2\n",
    "            obj.type = variant_type\n",
    "            obj.filter = list(record.filter)\n",
    "            variants.append(obj)\n",
    "    variants.sort()\n",
    "    return variants\n",
    "\n",
    "def scan_self_overlap(variants):\n",
    "    loader = ShiftLoader(variants)\n",
    "    for x in variants:\n",
    "        x.overlaps = []\n",
    "        for x2 in loader.fetch(obj=x):\n",
    "            if x2 is not x:\n",
    "                x.overlaps.append(x2)\n",
    "    return variants"
   ]
  },
  {
   "cell_type": "code",
   "execution_count": 3,
   "id": "7a1cf0d3",
   "metadata": {
    "ExecuteTime": {
     "end_time": "2024-03-05T02:40:27.398771Z",
     "start_time": "2024-03-05T02:40:27.202848Z"
    }
   },
   "outputs": [],
   "source": [
    "sizes = \"stratifications/genomes.sizes\"\n",
    "! sort -k1,1 /home/chenzonggui/species/mus_musculus/GRCm38.p6/GRCm38.canonical.genome.sizes > {sizes}"
   ]
  },
  {
   "cell_type": "code",
   "execution_count": 14,
   "id": "249df332",
   "metadata": {
    "ExecuteTime": {
     "end_time": "2024-03-04T10:45:39.659829Z",
     "start_time": "2024-03-04T10:45:36.022274Z"
    }
   },
   "outputs": [],
   "source": [
    "! zcat ../GRCm38_C57DBA_SV/stratifications/GRCm38_LowComplexity.bed.gz | awk '$3-$2>200' \\\n",
    "    | bedtools slop -i - -g {sizes} -b 50 \\\n",
    "    | bedtools merge -d 50 -i - > stratifications/GRCm38_LowComplexity_gt200bp_slop50bp.bed\n",
    "\n",
    "! zcat ../GRCm38_C57DBA_SV/stratifications/GRCm38_SimpleRepeats.bed.gz | awk '$3-$2>200' \\\n",
    "    | bedtools slop -i - -g {sizes} -b 50 \\\n",
    "    | bedtools merge -d 50 -i - > stratifications/GRCm38_SimpleRepeats_gt200bp_slop50bp.bed\n",
    "\n",
    "! zcat ../GRCm38_C57DBA_SV/GRCm38_DBA_ONT/GRCm38.tandemRepeats.bed.gz | awk '$3-$2>200' \\\n",
    "    | bedtools slop -i - -g {sizes} -b 50 \\\n",
    "    | bedtools merge -d 50 -i - > stratifications/GRCm38_TandemRepeats_gt200bp_slop50bp.bed"
   ]
  },
  {
   "cell_type": "code",
   "execution_count": null,
   "id": "c2d9a5cb",
   "metadata": {},
   "outputs": [],
   "source": [
    "with pysam.VariantFile(\"../GRCm38_C57DBA_SV/GRCm38_C57DBA_SV_benchmark_callsets.vcf.gz\") as f,\\\n",
    "    open(\"stratifications/GRCm38_DBA_SV.bed\", \"w+\") as fw:\n",
    "    for x in f:\n",
    "        svlen = abs(x.info[\"SVLEN\"])\n",
    "        if svlen >= 50:\n",
    "            fw.write(\"\\t\".join(map(str, [x.chrom, x.start, x.stop])) + \"\\n\")\n",
    "\n",
    "! cat stratifications/GRCm38_DBA_SV.bed | sort -k1,1 -k2,2n \\\n",
    "    | bedtools slop -i - -g {sizes} -b 500 \\\n",
    "    | bedtools merge -d 100 -i - > stratifications/GRCm38_DBA_SV_slop500bp.bed"
   ]
  },
  {
   "cell_type": "code",
   "execution_count": 5,
   "id": "1fc6e1e0",
   "metadata": {
    "ExecuteTime": {
     "end_time": "2024-03-05T02:44:45.502171Z",
     "start_time": "2024-03-05T02:44:44.822221Z"
    }
   },
   "outputs": [],
   "source": [
    "! bedtools slop -i ../GRCm38_C57DBA_SV/GRCm38_DBA_ONT/GRCm38_DBA_ONT.extreme.width_200bp_prop_0.01_0.99.bed -g {sizes} -b 200 \\\n",
    "    | bedtools merge -d 200 -i - > stratifications/GRCm38_DBA_ExtremeRegion_200bp_slop200bp.bed\n",
    "\n",
    "! bedtools slop -i ../GRCm38_C57DBA_SV/GRCm38_DBA_ONT/GRCm38_DBA_ONT.extreme.width_500bp_prop_0.01_0.99.bed -g {sizes} -b 500 \\\n",
    "    | bedtools merge -d 200 -i - > stratifications/GRCm38_DBA_ExtremeRegion_500bp_slop500bp.bed\n",
    "\n",
    "! bedtools slop -i ../GRCm38_C57DBA_SV/GRCm38_DBA_ONT/GRCm38_DBA_ONT.extreme.width_1000bp_prop_0.01_0.99.bed -g {sizes} -b 1000 \\\n",
    "    | bedtools merge -d 200 -i - > stratifications/GRCm38_DBA_ExtremeRegion_1000bp_slop1000bp.bed"
   ]
  },
  {
   "cell_type": "markdown",
   "id": "c052e214",
   "metadata": {},
   "source": [
    "## 1. C57BL/6J X DBA/2J\n",
    "\n",
    "C57BL/6J is GRCm38"
   ]
  },
  {
   "cell_type": "code",
   "execution_count": 3,
   "id": "a1f75de4",
   "metadata": {
    "ExecuteTime": {
     "end_time": "2024-03-04T05:27:15.924416Z",
     "start_time": "2024-03-04T05:21:38.153498Z"
    }
   },
   "outputs": [],
   "source": [
    "variants1 = load_variants(\"data/DBA_2J.mgp.v5.snps.dbSNP142.vcf.gz\", \"DBA_2J\", \"snp\")\n",
    "variants2 = load_variants(\"data/DBA_2J.mgp.v5.indels.dbSNP142.normed.vcf.gz\", \"DBA_2J\", \"indel\")\n",
    "variants = list(sorted(variants1 + variants2))\n",
    "variants = scan_self_overlap(variants)"
   ]
  },
  {
   "cell_type": "code",
   "execution_count": 9,
   "id": "dc849d49",
   "metadata": {
    "ExecuteTime": {
     "end_time": "2024-03-04T05:30:52.461078Z",
     "start_time": "2024-03-04T05:29:46.952130Z"
    },
    "code_folding": [
     4
    ]
   },
   "outputs": [],
   "source": [
    "outfile = \"GRCm38_C57BL_6J_DBA_2J_SNP_Indel.vcf\"\n",
    "records_failed = []\n",
    "with pysam.VariantFile(\"data/DBA_2J.mgp.v5.snps.dbSNP142.vcf.gz\") as f, open(outfile, \"w+\") as fw:\n",
    "    fw.write(\"##fileformat=VCFv4.2\\n\")\n",
    "    fw.write(\"##FORMAT=<ID=GT,Number=1,Type=String,Description=\\\"Genotype\\\">\\n\")\n",
    "    fw.write(\"##FORMAT=<ID=PS,Number=1,Type=String,Description=\\\"Phase set for GT\\\">\\n\")\n",
    "    for chrom in f.header.contigs:\n",
    "        if chrom == \"MT\":\n",
    "            continue\n",
    "        fw.write(\"##contig=<ID=chr%s,length=%d>\\n\" % (chrom, f.header.contigs[chrom].length))\n",
    "    fw.write(\"#CHROM\\tPOS\\tID\\tREF\\tALT\\tQUAL\\tFILTER\\tINFO\\tFORMAT\\tC57_6J_DBA_2J\\n\")\n",
    "    \n",
    "    for x in variants:\n",
    "        FS = x.filter\n",
    "        if len(FS) == 1 and FS[0] == \"PASS\":\n",
    "            FS = []\n",
    "    \n",
    "        ref = x.ref\n",
    "        a1, a2 = x.allele1, x.allele2\n",
    "            \n",
    "        if len(x.overlaps) == 0 and a1 == a2 and a1 != ref:\n",
    "            a1 = ref\n",
    "            if len(FS) > 0:\n",
    "                records_failed.append(x)\n",
    "        else:\n",
    "            records_failed.append(x)\n",
    "            continue\n",
    "        \n",
    "        alleles = [ref]\n",
    "        if a1 not in alleles:\n",
    "            alleles.append(a1)\n",
    "        if a2 not in alleles:\n",
    "            alleles.append(a2)\n",
    "        gt = \"%s|%s\" % (alleles.index(a1), alleles.index(a2))\n",
    "        \n",
    "        if len(FS) == 0:\n",
    "            FS = [\"PASS\"]\n",
    "        line = \"\\t\".join(map(str, [x.chrom, x.start + 1, \".\", x.ref, \",\".join(alleles[1:]), \".\", \";\".join(FS), \".\", \"GT:PS\", gt + \":0\"]))\n",
    "        fw.write(line + \"\\n\")\n",
    "        \n",
    "! bgzip -f {outfile}\n",
    "! tabix -f -p vcf {outfile}.gz"
   ]
  },
  {
   "cell_type": "code",
   "execution_count": 20,
   "id": "1d28cfac",
   "metadata": {
    "ExecuteTime": {
     "end_time": "2024-03-04T05:49:36.814035Z",
     "start_time": "2024-03-04T05:49:32.729735Z"
    }
   },
   "outputs": [],
   "source": [
    "with open(\"stratifications/GRCm38_C57BL_6J_DBA_2J_SNP_Indel_failed.bed\", \"w+\") as fw:\n",
    "    for x in records_failed:\n",
    "        fw.write(\"\\t\".join(map(str, [x.chrom, x.start, x.end])) + \"\\n\")"
   ]
  },
  {
   "cell_type": "code",
   "execution_count": 22,
   "id": "d3620c5f",
   "metadata": {
    "ExecuteTime": {
     "end_time": "2024-03-04T05:50:33.662934Z",
     "start_time": "2024-03-04T05:50:13.121347Z"
    }
   },
   "outputs": [],
   "source": [
    "! cat stratifications/GRCm38_C57BL_6J_DBA_2J_SNP_Indel_failed.bed | sort -k1,1 -k2,2n \\\n",
    "    | bedtools slop -i - -g {sizes} -b 50 \\\n",
    "    | bedtools merge -d 50 -i - > stratifications/GRCm38_C57BL_6J_DBA_2J_SNP_Indel_failed_slop50bp.bed"
   ]
  },
  {
   "cell_type": "code",
   "execution_count": 24,
   "id": "bd255afa",
   "metadata": {
    "ExecuteTime": {
     "end_time": "2024-03-04T05:51:00.580925Z",
     "start_time": "2024-03-04T05:50:42.252163Z"
    }
   },
   "outputs": [],
   "source": [
    "for path in glob.glob(\"stratifications/*.bed\"):\n",
    "    ! sort -k1,1 -k2,2n {path} | bedtools merge -i - | bgzip -c > {path}.gz\n",
    "    ! tabix -f -p bed {path}.gz\n",
    "    ! rm {path}"
   ]
  },
  {
   "cell_type": "code",
   "execution_count": 8,
   "id": "77d7434b",
   "metadata": {
    "ExecuteTime": {
     "end_time": "2024-03-05T02:46:05.606775Z",
     "start_time": "2024-03-05T02:45:55.374937Z"
    }
   },
   "outputs": [],
   "source": [
    "! zcat \\\n",
    "    stratifications/GRCm38_C57BL_6J_DBA_2J_SNP_Indel_failed_slop50bp.bed.gz \\\n",
    "    stratifications/GRCm38_DBA_SV_slop500bp.bed.gz \\\n",
    "    stratifications/GRCm38_LowComplexity_gt200bp_slop50bp.bed.gz \\\n",
    "    stratifications/GRCm38_SimpleRepeats_gt200bp_slop50bp.bed.gz \\\n",
    "    stratifications/GRCm38_TandemRepeats_gt200bp_slop50bp.bed.gz \\\n",
    "    stratifications/GRCm38_DBA_ExtremeRegion_200bp_slop200bp.bed.gz \\\n",
    "    stratifications/GRCm38_DBA_ExtremeRegion_500bp_slop500bp.bed.gz \\\n",
    "    stratifications/GRCm38_DBA_ExtremeRegion_1000bp_slop1000bp.bed.gz \\\n",
    "    | grep -v chrM | sort -k1,1 -k2,2n | bedtools merge -i - -d 50 \\\n",
    "    | bedtools complement -i - -g {sizes} | bgzip -c > GRCm38_C57BL_6J_DBA_2J_SNP_Indel.bed.gz\n",
    "! tabix -f -p bed GRCm38_C57BL_6J_DBA_2J_SNP_Indel.bed.gz"
   ]
  },
  {
   "cell_type": "markdown",
   "id": "863030e4",
   "metadata": {},
   "source": [
    "## 2. C57BL/6NJ X DBA/2J\n",
    "\n",
    "In general, the homozygous genome hold identical haplotypes, and variants does not overlap with any other variants at diploid. \n",
    "\n",
    "Therefore, the variants that overlap with other variants are considered located at comlex regions and will be ignored in benchmark."
   ]
  },
  {
   "cell_type": "code",
   "execution_count": 3,
   "id": "f0c9140e",
   "metadata": {
    "ExecuteTime": {
     "end_time": "2024-03-04T10:34:38.451915Z",
     "start_time": "2024-03-04T10:29:54.966126Z"
    }
   },
   "outputs": [],
   "source": [
    "variants1 = load_variants(\"data/C57BL_6NJ.mgp.v5.snps.dbSNP142.vcf.gz\", \"C57BL_6NJ\", \"snp\")\n",
    "variants2 = load_variants(\"data/C57BL_6NJ.mgp.v5.indels.dbSNP142.normed.vcf.gz\", \"C57BL_6NJ\", \"indel\")\n",
    "variants3 = load_variants(\"data/DBA_2J.mgp.v5.snps.dbSNP142.vcf.gz\", \"DBA_2J\", \"snp\")\n",
    "variants4 = load_variants(\"data/DBA_2J.mgp.v5.indels.dbSNP142.normed.vcf.gz\", \"DBA_2J\", \"indel\")"
   ]
  },
  {
   "cell_type": "code",
   "execution_count": 4,
   "id": "c20887c4",
   "metadata": {
    "ExecuteTime": {
     "end_time": "2024-03-04T10:35:50.748948Z",
     "start_time": "2024-03-04T10:34:38.456116Z"
    }
   },
   "outputs": [],
   "source": [
    "variants_c57 = list(sorted(variants1 + variants2))\n",
    "variants_dba = list(sorted(variants3 + variants4))\n",
    "variants_c57 = scan_self_overlap(variants_c57)\n",
    "variants_dba = scan_self_overlap(variants_dba)"
   ]
  },
  {
   "cell_type": "markdown",
   "id": "ae0513ac",
   "metadata": {},
   "source": [
    "The homozygous variants from C57 only or DBA only were combined as heterouzygou variants at F1 genome. \n",
    "\n",
    "For the homozygous variants that overlap between C57 and DBA, we combined them depending on the characteristics of the variants.\n",
    "\n",
    "Low quality SNPs is challenge at benchmark, which will underestimate the performance. Therefore, we marked those regions contain low-quality SNPs as blacklist regions."
   ]
  },
  {
   "cell_type": "code",
   "execution_count": 5,
   "id": "2a74d0f5",
   "metadata": {
    "ExecuteTime": {
     "end_time": "2024-03-04T10:37:15.777273Z",
     "start_time": "2024-03-04T10:36:37.214530Z"
    }
   },
   "outputs": [],
   "source": [
    "def collapse_variants_to_left(variants1, variants2):\n",
    "    blacklist = [] # complex variants on F1\n",
    "    results1 = [] # only on variants1\n",
    "    results2 = [] # common on variants1 and variants2\n",
    "    loader = ShiftLoader(variants2)\n",
    "    for x in variants1:\n",
    "        hits = [x2 for x2 in loader.fetch(obj=x)]\n",
    "        if len(x.overlaps) == 0 and x.filter[0] == \"PASS\":\n",
    "            if len(hits) == 0:\n",
    "                results1.append(x)\n",
    "            elif len(hits) == 1:\n",
    "                x2 = hits[0]\n",
    "                if len(x2.overlaps) == 0 and x2.filter[0] == \"PASS\" and x.type == x2.type:\n",
    "                    if x.type == \"snp\":\n",
    "                        results2.append([x, x2])\n",
    "                    else:\n",
    "                        if x.start == x2.start:\n",
    "                            if len(x) == 1 and len(x2) == 1: # insertion\n",
    "                                results2.append([x, x2])\n",
    "                            elif len(x) > 1 and len(x2) > 1 and len(x) == len(x2): # deletion\n",
    "                                results2.append([x, x2])\n",
    "                            else:\n",
    "                                blacklist.append(x)\n",
    "                        else:\n",
    "                            blacklist.append(x)\n",
    "                else:\n",
    "                    blacklist.append(x)\n",
    "            else:\n",
    "                blacklist.append(x)\n",
    "        else:\n",
    "            blacklist.append(x)\n",
    "    blacklist = [[x.chrom, x.start, x.end] for x in blacklist]\n",
    "    return results1, results2, blacklist\n",
    "\n",
    "results1_1, results1_2, blacklist1 = collapse_variants_to_left(variants_c57, variants_dba)\n",
    "results2_1, results2_2, blacklist2 = collapse_variants_to_left(variants_dba, variants_c57)"
   ]
  },
  {
   "cell_type": "code",
   "execution_count": 6,
   "id": "9748ee5e",
   "metadata": {
    "ExecuteTime": {
     "end_time": "2024-03-04T10:37:26.111244Z",
     "start_time": "2024-03-04T10:37:26.095832Z"
    }
   },
   "outputs": [
    {
     "name": "stdout",
     "output_type": "stream",
     "text": [
      "----------------------------------------\n",
      "For C57 variants:\n",
      "Variants on C57 only: 10135\n",
      "Variants on C57 and DBA: 16246\n",
      "Variants on blacklist: 140093\n",
      "----------------------------------------\n",
      "For DBA variants:\n",
      "Variants on DBA only: 6095643\n",
      "Variants on C57 and DBA: 16246\n",
      "Variants on blacklist: 854001\n"
     ]
    }
   ],
   "source": [
    "print(\"-\" * 40)\n",
    "print(\"For C57 variants:\")\n",
    "print(\"Variants on C57 only:\", len(results1_1))\n",
    "print(\"Variants on C57 and DBA:\", len(results1_2))\n",
    "print(\"Variants on blacklist:\", len(blacklist1))\n",
    "print(\"-\" * 40)\n",
    "print(\"For DBA variants:\")\n",
    "print(\"Variants on DBA only:\", len(results2_1))\n",
    "print(\"Variants on C57 and DBA:\", len(results2_2))\n",
    "print(\"Variants on blacklist:\", len(blacklist2))"
   ]
  },
  {
   "cell_type": "code",
   "execution_count": 7,
   "id": "2cb4654d",
   "metadata": {
    "ExecuteTime": {
     "end_time": "2024-03-04T10:37:52.712842Z",
     "start_time": "2024-03-04T10:37:38.506783Z"
    }
   },
   "outputs": [],
   "source": [
    "array = []\n",
    "for x in results1_1:\n",
    "    assert x.allele1 == x.allele2\n",
    "    array.append([x.chrom, x.start + 1, x.ref, (x.allele1, x.ref)])\n",
    "for x in results2_1:\n",
    "    assert x.allele1 == x.allele2\n",
    "    array.append([x.chrom, x.start + 1, x.ref, (x.ref, x.allele1)])\n",
    "for x, x2 in results1_2:\n",
    "    assert x.allele1 == x.allele2\n",
    "    assert x2.allele1 == x2.allele2\n",
    "    assert x.type == x2.type\n",
    "    array.append([x.chrom, x.start + 1, x.ref, (x.allele1, x2.allele1)])\n",
    "array.sort()"
   ]
  },
  {
   "cell_type": "code",
   "execution_count": 11,
   "id": "e8955a8f",
   "metadata": {
    "ExecuteTime": {
     "end_time": "2024-03-04T10:42:31.284467Z",
     "start_time": "2024-03-04T10:41:44.704805Z"
    }
   },
   "outputs": [],
   "source": [
    "infile = \"data/C57BL_6NJ.mgp.v5.snps.dbSNP142.vcf.gz\"\n",
    "outfile = \"GRCm38_C57BL_6NJ_DBA_2J_SNP_Indel.vcf\"\n",
    "\n",
    "with pysam.VariantFile(infile) as f, open(outfile, \"w+\") as fw:\n",
    "    fw.write(\"##fileformat=VCFv4.2\\n\")\n",
    "    fw.write(\"##FORMAT=<ID=GT,Number=1,Type=String,Description=\\\"Genotype\\\">\\n\")\n",
    "    fw.write(\"##FORMAT=<ID=PS,Number=1,Type=String,Description=\\\"Phase set for GT\\\">\\n\")\n",
    "    for chrom in f.header.contigs:\n",
    "        if chrom == \"MT\":\n",
    "            continue\n",
    "        fw.write(\"##contig=<ID=chr%s,length=%d>\\n\" % (chrom, f.header.contigs[chrom].length))\n",
    "    fw.write(\"#CHROM\\tPOS\\tID\\tREF\\tALT\\tQUAL\\tFILTER\\tINFO\\tFORMAT\\tC57_6NJ_DBA_2J\\n\")\n",
    "\n",
    "    for chrom, pos, ref, (pat, mat) in array:\n",
    "        alleles = [ref]\n",
    "        if pat not in alleles:\n",
    "            alleles.append(pat)\n",
    "        if mat not in alleles:\n",
    "            alleles.append(mat)\n",
    "        gt = \"%s|%s\" % (alleles.index(pat), alleles.index(mat))\n",
    "        line = \"\\t\".join(map(str, [chrom, pos, \".\", ref, \",\".join(alleles[1:]), \".\", \"PASS\", \".\", \"GT:PS\", gt + \":0\"]))\n",
    "        fw.write(line + \"\\n\")\n",
    "        \n",
    "! bgzip -f {outfile}\n",
    "! tabix -f -p vcf {outfile}.gz"
   ]
  },
  {
   "cell_type": "code",
   "execution_count": 12,
   "id": "7945316c",
   "metadata": {
    "ExecuteTime": {
     "end_time": "2024-03-04T10:43:27.086987Z",
     "start_time": "2024-03-04T10:43:23.640627Z"
    }
   },
   "outputs": [],
   "source": [
    "with open(\"stratifications/GRCm38_C57BL_6NJ_DBA_2J_SNP_Indel_failed.bed\", \"w+\") as fw:\n",
    "    for r in (blacklist1 + blacklist2):\n",
    "        fw.write(\"\\t\".join(map(str, r)) + \"\\n\")"
   ]
  },
  {
   "cell_type": "code",
   "execution_count": 15,
   "id": "7d4b3979",
   "metadata": {
    "ExecuteTime": {
     "end_time": "2024-03-04T10:46:08.673938Z",
     "start_time": "2024-03-04T10:45:49.126757Z"
    }
   },
   "outputs": [],
   "source": [
    "! cat stratifications/GRCm38_C57BL_6NJ_DBA_2J_SNP_Indel_failed.bed | sort -k1,1 -k2,2n \\\n",
    "    | bedtools slop -i - -g {sizes} -b 50 \\\n",
    "    | bedtools merge -d 50 -i - > stratifications/GRCm38_C57BL_6NJ_DBA_2J_SNP_Indel_failed_slop50bp.bed"
   ]
  },
  {
   "cell_type": "code",
   "execution_count": 6,
   "id": "cc5747bc",
   "metadata": {
    "ExecuteTime": {
     "end_time": "2024-03-05T02:45:02.757016Z",
     "start_time": "2024-03-05T02:45:00.665668Z"
    }
   },
   "outputs": [],
   "source": [
    "for path in glob.glob(\"stratifications/*.bed\"):\n",
    "    ! sort -k1,1 -k2,2n {path} | bedtools merge -i - | bgzip -c > {path}.gz\n",
    "    ! tabix -f -p bed {path}.gz\n",
    "    ! rm {path}"
   ]
  },
  {
   "cell_type": "code",
   "execution_count": 7,
   "id": "6a6c1798",
   "metadata": {
    "ExecuteTime": {
     "end_time": "2024-03-05T02:45:53.110915Z",
     "start_time": "2024-03-05T02:45:42.226859Z"
    }
   },
   "outputs": [],
   "source": [
    "! zcat \\\n",
    "    stratifications/GRCm38_C57BL_6NJ_DBA_2J_SNP_Indel_failed_slop50bp.bed.gz \\\n",
    "    stratifications/GRCm38_DBA_SV_slop500bp.bed.gz \\\n",
    "    stratifications/GRCm38_LowComplexity_gt200bp_slop50bp.bed.gz \\\n",
    "    stratifications/GRCm38_SimpleRepeats_gt200bp_slop50bp.bed.gz \\\n",
    "    stratifications/GRCm38_TandemRepeats_gt200bp_slop50bp.bed.gz \\\n",
    "    stratifications/GRCm38_DBA_ExtremeRegion_200bp_slop200bp.bed.gz \\\n",
    "    stratifications/GRCm38_DBA_ExtremeRegion_500bp_slop500bp.bed.gz \\\n",
    "    stratifications/GRCm38_DBA_ExtremeRegion_1000bp_slop1000bp.bed.gz \\\n",
    "    | grep -v chrM | sort -k1,1 -k2,2n | bedtools merge -i - -d 50 \\\n",
    "    | bedtools complement -i - -g {sizes} | bgzip -c > GRCm38_C57BL_6NJ_DBA_2J_SNP_Indel.bed.gz\n",
    "! tabix -f -p bed GRCm38_C57BL_6NJ_DBA_2J_SNP_Indel.bed.gz"
   ]
  }
 ],
 "metadata": {
  "kernelspec": {
   "display_name": "Python 3",
   "language": "python",
   "name": "python3"
  },
  "language_info": {
   "codemirror_mode": {
    "name": "ipython",
    "version": 3
   },
   "file_extension": ".py",
   "mimetype": "text/x-python",
   "name": "python",
   "nbconvert_exporter": "python",
   "pygments_lexer": "ipython3",
   "version": "3.6.15"
  }
 },
 "nbformat": 4,
 "nbformat_minor": 5
}
